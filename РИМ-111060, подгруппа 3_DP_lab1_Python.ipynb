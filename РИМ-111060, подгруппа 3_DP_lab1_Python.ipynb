{
 "cells": [
  {
   "cell_type": "markdown",
   "metadata": {
    "id": "P48AGeotHzDJ"
   },
   "source": [
    "# Лабораторная работа 1. Вводная."
   ]
  },
  {
   "cell_type": "markdown",
   "metadata": {
    "id": "K8kbDLE5HzDO"
   },
   "source": [
    "## 1. Два раза кликните по блоку ниже (ФИО/Группа) и заполните ваше ФИО и номер группы."
   ]
  },
  {
   "cell_type": "markdown",
   "metadata": {
    "id": "ykYhPGcZHzDP"
   },
   "source": [
    "ФИО студентов:\n",
    "Лисовский Кирилл Алексеевич\n",
    "Никитенко Андрей Михайлович\n",
    "Уксусников Николай Алексеевич\n",
    "Степаненко Дмитрий Владимирович\n",
    "\n",
    "Группа: РИМ-111060\n",
    "Подгруппа задания: 3"
   ]
  },
  {
   "cell_type": "markdown",
   "metadata": {
    "id": "a0nf1kzBHzDR"
   },
   "source": [
    "## 2. Запуск кода\n",
    "Прежде всего, Jupyter Notebook - это интерактивная среда для написания и запуска кода. Ноутбук может запускать код на многих языках. Однако каждый ноутбук связан с одним ядром. Этот блокнот связан с ядром IPython, поэтому запускает код Python. Ядро можно увидеть справа в углу под кнопкой Logout."
   ]
  },
  {
   "cell_type": "markdown",
   "metadata": {
    "id": "t73W4_CgHzDR"
   },
   "source": [
    "Запустите ячейку кода, используя `Shift-Enter` или нажав на кнопку <button class='btn btn-default btn-xs'><i class=\"icon-step-forward fa fa-play\"></i></button> на панели инструментов выше"
   ]
  },
  {
   "cell_type": "code",
   "execution_count": 1,
   "metadata": {
    "id": "O6sSa49YHzDS"
   },
   "outputs": [],
   "source": [
    "a = 25"
   ]
  },
  {
   "cell_type": "markdown",
   "metadata": {
    "id": "wqCv4Q6fHzDT"
   },
   "source": [
    "Есть еще два сочетания клавиш для запуска кода:\n",
    "\n",
    "Alt-Enter запускает текущую ячейку и вставляет новую ниже.\n",
    "Ctrl-Enter запускает текущую ячейку и входит в командный режим."
   ]
  },
  {
   "cell_type": "markdown",
   "metadata": {
    "id": "BMlnGW7YHzDT"
   },
   "source": [
    "Код выполняется в отдельном процессе, называемом ядром. Ядро можно прервать или перезапустить. Попробуйте запустить следующую ячейку и нажмите кнопку <button class = 'btn btn-default btn-xs'> <i class = 'icon-stop fa fa-stop'> </i> </button> на панели инструментов выше.\n",
    "\n",
    "Ядро поддерживает состояние вычислений notebook. Вы можете сбросить это состояние, перезапустив ядро. Это делается нажатием кнопки <button class = 'btn btn-default btn-xs'> <i class = 'fa fa-repeat icon-repeat'> </i> </button> на панели инструментов выше."
   ]
  },
  {
   "cell_type": "markdown",
   "metadata": {
    "id": "e-Lu3jRGHzDU"
   },
   "source": [
    "## 3. Общая информация о Python"
   ]
  },
  {
   "cell_type": "markdown",
   "metadata": {
    "id": "_W7o5c9UHzDV"
   },
   "source": [
    "Для вывода результата можно использовать функцию print() примеры и описание возможностей можно посомтреть по ссылке https://pythonru.com/osnovy/python-print"
   ]
  },
  {
   "cell_type": "code",
   "execution_count": 2,
   "metadata": {
    "colab": {
     "base_uri": "https://localhost:8080/"
    },
    "id": "930_Wmv5HzDV",
    "outputId": "5cb406de-6865-4b67-8163-ce43898b3292"
   },
   "outputs": [
    {
     "name": "stdout",
     "output_type": "stream",
     "text": [
      "25\n"
     ]
    }
   ],
   "source": [
    "print(a)"
   ]
  },
  {
   "cell_type": "markdown",
   "metadata": {
    "id": "YHfu3OukHzDX"
   },
   "source": [
    "### Типы данных\n",
    "Python - это императивный язык, основанный на утверждениях. То есть программы на Python состоят из строк, составленных из операторов. Операторы могут быть:\n",
    "* одно выражение\n",
    "* назначение\n",
    "* вызов функции\n",
    "* определение функции\n",
    "* оператор\n",
    "\n",
    "Выражения могут быть:\n",
    "* integer\n",
    "* float\n",
    "* complex numbers\n",
    "* strings\n",
    "* boolean values\n",
    "* lists \n",
    "* dicts\n",
    "* tuple"
   ]
  },
  {
   "cell_type": "code",
   "execution_count": 3,
   "metadata": {
    "colab": {
     "base_uri": "https://localhost:8080/"
    },
    "id": "3NR1Xem9HzDY",
    "outputId": "4a226921-e0a3-4766-f706-85f6f3dd7843"
   },
   "outputs": [
    {
     "data": {
      "text/plain": [
       "1"
      ]
     },
     "execution_count": 3,
     "metadata": {},
     "output_type": "execute_result"
    }
   ],
   "source": [
    "1 # integer"
   ]
  },
  {
   "cell_type": "code",
   "execution_count": 4,
   "metadata": {
    "colab": {
     "base_uri": "https://localhost:8080/"
    },
    "id": "BycB0c3JHzDY",
    "outputId": "d4bb0b22-b4a6-46fb-fb3e-163d2fb138a0"
   },
   "outputs": [
    {
     "data": {
      "text/plain": [
       "2.5"
      ]
     },
     "execution_count": 4,
     "metadata": {},
     "output_type": "execute_result"
    }
   ],
   "source": [
    "2.5 # float"
   ]
  },
  {
   "cell_type": "code",
   "execution_count": 5,
   "metadata": {
    "colab": {
     "base_uri": "https://localhost:8080/",
     "height": 36
    },
    "id": "qO64Id8ZHzDZ",
    "outputId": "9e691c7b-5a73-485c-9672-5504faad86fd"
   },
   "outputs": [
    {
     "data": {
      "text/plain": [
       "'time'"
      ]
     },
     "execution_count": 5,
     "metadata": {},
     "output_type": "execute_result"
    }
   ],
   "source": [
    "'time' # string"
   ]
  },
  {
   "cell_type": "code",
   "execution_count": 6,
   "metadata": {
    "colab": {
     "base_uri": "https://localhost:8080/"
    },
    "id": "rrLhMQyDHzDZ",
    "outputId": "e6b3fb7b-4f36-410d-da4f-7468ece7b234"
   },
   "outputs": [
    {
     "data": {
      "text/plain": [
       "True"
      ]
     },
     "execution_count": 6,
     "metadata": {},
     "output_type": "execute_result"
    }
   ],
   "source": [
    "True # boolean"
   ]
  },
  {
   "cell_type": "code",
   "execution_count": 7,
   "metadata": {
    "colab": {
     "base_uri": "https://localhost:8080/"
    },
    "id": "REv3j39KHzDa",
    "outputId": "e700b44a-6344-4d9a-f051-62aa28a2bc2a"
   },
   "outputs": [
    {
     "data": {
      "text/plain": [
       "False"
      ]
     },
     "execution_count": 7,
     "metadata": {},
     "output_type": "execute_result"
    }
   ],
   "source": [
    "False # boolean"
   ]
  },
  {
   "cell_type": "markdown",
   "metadata": {
    "id": "Z8vf8vDcHzDa"
   },
   "source": [
    "Python имеет три очень полезных структуры данных, встроенных в язык:\n",
    "* словари (хеш-таблицы): {}\n",
    "* списки: []\n",
    "* кортежи: (элемент, ...)"
   ]
  },
  {
   "cell_type": "code",
   "execution_count": 8,
   "metadata": {
    "colab": {
     "base_uri": "https://localhost:8080/"
    },
    "id": "waXUy3f-HzDb",
    "outputId": "32030670-a9e4-4c2b-df70-5e62cbb24793"
   },
   "outputs": [
    {
     "data": {
      "text/plain": [
       "{'яблоко': 'фрукт', 'банан': 'трава', 'обезьяна': 'млекопитающее'}"
      ]
     },
     "execution_count": 8,
     "metadata": {},
     "output_type": "execute_result"
    }
   ],
   "source": [
    "{ \"яблоко\" :  \"фрукт\" ,  \"банан\" :  \"трава\" ,  \"обезьяна\" :  \"млекопитающее\" }"
   ]
  },
  {
   "cell_type": "code",
   "execution_count": 9,
   "metadata": {
    "colab": {
     "base_uri": "https://localhost:8080/"
    },
    "id": "0b0utqF1HzDb",
    "outputId": "01a5afbb-54aa-4ea6-f0d5-a52530e93f19"
   },
   "outputs": [
    {
     "data": {
      "text/plain": [
       "[1, 2, 3]"
      ]
     },
     "execution_count": 9,
     "metadata": {},
     "output_type": "execute_result"
    }
   ],
   "source": [
    "[1, 2, 3]"
   ]
  },
  {
   "cell_type": "code",
   "execution_count": 10,
   "metadata": {
    "colab": {
     "base_uri": "https://localhost:8080/"
    },
    "id": "enuHhlqwHzDb",
    "outputId": "da1128c9-41e4-4c96-b80b-0be551d8ba5f"
   },
   "outputs": [
    {
     "data": {
      "text/plain": [
       "(9, 7, 10)"
      ]
     },
     "execution_count": 10,
     "metadata": {},
     "output_type": "execute_result"
    }
   ],
   "source": [
    "( 9,  7, 10)"
   ]
  },
  {
   "cell_type": "markdown",
   "metadata": {
    "id": "LAnZVdL4HzDb"
   },
   "source": [
    "### Математические операторы\n",
    "\"+\" - сложение\n",
    "\n",
    "\"-\" - вычитание\n",
    "\n",
    "\"/\" - деление\n",
    "\n",
    "\"//\" - целочисленное деление\n",
    "\n",
    "\"%\" - остаток от деления\n",
    "\n",
    "\"*\" - умножение\n",
    "\n",
    "\"**\" - возведение в степень"
   ]
  },
  {
   "cell_type": "code",
   "execution_count": 11,
   "metadata": {
    "colab": {
     "base_uri": "https://localhost:8080/"
    },
    "id": "9g4RHPAYHzDc",
    "outputId": "09022d61-3027-460b-8ab8-bec14f90dd75"
   },
   "outputs": [
    {
     "name": "stdout",
     "output_type": "stream",
     "text": [
      "a + b =  9\n",
      "a - b =  5\n",
      "a / b =  3.5\n",
      "a // b =  3\n",
      "a % b =  1\n",
      "a * b =  14\n",
      "a ** b =  49\n"
     ]
    }
   ],
   "source": [
    "a = 7\n",
    "b = 2\n",
    "print(\"a + b = \", a + b)\n",
    "print(\"a - b = \", a - b)\n",
    "print(\"a / b = \", a / b)\n",
    "print(\"a // b = \", a // b)\n",
    "print(\"a % b = \", a % b) # В данном случае ближайшее число к 7, которое делится на 2 без остатка, это 6. Поэтому остаток от деления равен 7 - 6 = 1\n",
    "print(\"a * b = \", a * b)\n",
    "print(\"a ** b = \", a ** b)"
   ]
  },
  {
   "cell_type": "markdown",
   "metadata": {
    "id": "RkC020mAHzDc"
   },
   "source": [
    "#### Арифметические операции с присвоением\n",
    "Ряд специальных операций позволяют использовать присвоить результат операции первому операнду:\n",
    "\n",
    "\"+=\" - Присвоение результата сложения\n",
    "\n",
    "\"-=\" - Присвоение результата вычитания\n",
    "\n",
    "\"*=\" - Присвоение результата умножения\n",
    "\n",
    "\"/=\" - Присвоение результата от деления\n",
    "\n",
    "\"//=\" - Присвоение результата целочисленного деления\n",
    "\n",
    "\"**=\" - Присвоение степени числа\n",
    "\n",
    "\"%=\" - Присвоение остатка от деления"
   ]
  },
  {
   "cell_type": "markdown",
   "metadata": {
    "id": "mXl1zwpDHzDd"
   },
   "source": [
    "### Логические операторы\n",
    "\n",
    "\"==\" - Возвращает True, если оба операнда равны. Иначе возвращает False.\n",
    "\n",
    "\"!=\" - Возвращает True, если оба операнда НЕ равны. Иначе возвращает False.\n",
    "\n",
    "\"> (больше чем)\" - Возвращает True, если первый операнд больше второго.\n",
    "\n",
    "\"< (меньше чем)\" - Возвращает True, если первый операнд меньше второго.\n",
    "\n",
    "\">= (больше или равно)\" - Возвращает True, если первый операнд больше или равен второму.\n",
    "\n",
    "\"<= (меньше или равно)\" - Возвращает True, если первый операнд меньше или равен второму.\n",
    "\n",
    "\"and\" - логическое умножение\n",
    "\n",
    "\"or\" - логическое сложение\n",
    "\n",
    "\"not\" - логическое отрицание"
   ]
  },
  {
   "cell_type": "code",
   "execution_count": 12,
   "metadata": {
    "colab": {
     "base_uri": "https://localhost:8080/"
    },
    "id": "VPQAnbUXHzDd",
    "outputId": "2be4410d-ca47-4e79-9d67-9d046bd32260"
   },
   "outputs": [
    {
     "name": "stdout",
     "output_type": "stream",
     "text": [
      "a > b = True\n",
      "a < b =  True\n",
      "a == b =  False\n",
      "a != b =  True\n",
      "a >= b =  True\n",
      "a < b and a > b =  False\n",
      "a < b or a > b =  True\n",
      "not a < b =  True\n"
     ]
    }
   ],
   "source": [
    "print(\"a > b =\",a > b)\n",
    "print(\"a < b = \",a > b)\n",
    "print(\"a == b = \",a == b)\n",
    "print(\"a != b = \",a != b)\n",
    "print(\"a >= b = \",a >= b)\n",
    "print(\"a < b and a > b = \", a < b and a > b)\n",
    "print(\"a < b or a > b = \", a < b or a > b)\n",
    "print(\"not a < b = \", not a < b)"
   ]
  },
  {
   "cell_type": "markdown",
   "metadata": {
    "id": "GPcbD6loHzDd"
   },
   "source": [
    "### Библиотеки\n",
    "\n",
    "Для того чтобы подключить библиотеку используйте функцию import\n",
    "Ниже ссылки на документацию основных используемых билотек в лабораторных работах.\n",
    "\n",
    "* numpy - поддержка больших многомерных массивов и матриц, вместе с большой библиотекой высокоуровневых математических функций для операций с этими массивами https://numpy.org/doc/\n",
    "* matplotlib - библиотека для отображения графиков http://matplotlib.org/api/pyplot_api.html\n",
    "* SciPy — предназначенная для выполнения научных и инженерных расчётов, содержит функции обработки сигналов https://www.scipy.org/docs.html\n",
    "* random - для генераторации случайных чисел и данных https://docs.python.org/3/library/random.html"
   ]
  },
  {
   "cell_type": "code",
   "execution_count": 13,
   "metadata": {
    "id": "INyHxaxUHzDe"
   },
   "outputs": [],
   "source": [
    "# отображаем график  тетрадке\n",
    "%matplotlib inline\n",
    "import numpy as np # с помощью as переименовываем библиотеку так чтобы ее было удобно использовать\n",
    "import matplotlib"
   ]
  },
  {
   "cell_type": "code",
   "execution_count": 14,
   "metadata": {
    "colab": {
     "base_uri": "https://localhost:8080/"
    },
    "id": "ZFgHBjO8HzDf",
    "outputId": "cac8b2cf-d1fc-4784-f7de-323298fa3aa0"
   },
   "outputs": [
    {
     "name": "stdout",
     "output_type": "stream",
     "text": [
      "3.141592653589793\n"
     ]
    }
   ],
   "source": [
    "print(np.pi)"
   ]
  },
  {
   "cell_type": "markdown",
   "metadata": {
    "id": "u9C06u0mHzDf"
   },
   "source": [
    "Так же в библиотеках могут быть подпакеты их можно импортировать отдельно или вызывать последовательно через точку"
   ]
  },
  {
   "cell_type": "code",
   "execution_count": 15,
   "metadata": {
    "id": "NEIQ7w7YHzDf"
   },
   "outputs": [],
   "source": [
    "import matplotlib.pyplot as plt\n",
    "# или\n",
    "from matplotlib import pyplot as plt"
   ]
  },
  {
   "cell_type": "code",
   "execution_count": 16,
   "metadata": {
    "colab": {
     "base_uri": "https://localhost:8080/",
     "height": 283
    },
    "id": "ODftRGCxHzDf",
    "outputId": "ddfd9b9c-d095-48a9-a7d4-ef677d71b058"
   },
   "outputs": [
    {
     "data": {
      "text/plain": [
       "[<matplotlib.lines.Line2D at 0x1bc272c7e20>]"
      ]
     },
     "execution_count": 16,
     "metadata": {},
     "output_type": "execute_result"
    },
    {
     "data": {
      "image/png": "[encoded data removed]",
      "text/plain": [
       "<Figure size 432x288 with 1 Axes>"
      ]
     },
     "metadata": {
      "needs_background": "light"
     },
     "output_type": "display_data"
    }
   ],
   "source": [
    "plt.plot([5, 8, 2, 6, 1, 8, 2, 3, 4, 5, 6])"
   ]
  },
  {
   "cell_type": "code",
   "execution_count": 17,
   "metadata": {
    "colab": {
     "base_uri": "https://localhost:8080/"
    },
    "id": "7fE5Nyb7HzDf",
    "outputId": "ff901ce9-cc04-4ee4-ec4a-23dbe861421b"
   },
   "outputs": [
    {
     "data": {
      "text/plain": [
       "6.62607015e-34"
      ]
     },
     "execution_count": 17,
     "metadata": {},
     "output_type": "execute_result"
    }
   ],
   "source": [
    "from scipy import constants\n",
    "constants.h"
   ]
  },
  {
   "cell_type": "code",
   "execution_count": 18,
   "metadata": {
    "colab": {
     "base_uri": "https://localhost:8080/"
    },
    "id": "HzuuB3kQHzDg",
    "outputId": "29697ee2-3247-43da-da60-e864ee202a7b"
   },
   "outputs": [
    {
     "data": {
      "text/plain": [
       "0.9098615739795088"
      ]
     },
     "execution_count": 18,
     "metadata": {},
     "output_type": "execute_result"
    }
   ],
   "source": [
    "import random\n",
    "random.random()                        "
   ]
  },
  {
   "cell_type": "markdown",
   "metadata": {
    "id": "uEKTMTGvHzDg"
   },
   "source": [
    "### Условия\n",
    "\n",
    "В Python есть условные операторы \"оператор выражение:\" строкой ниже идет инструкция, что делать в таком случае. Перед ней обязательно четыре пробела. Среды разработки обычно их ставят атоматом\n",
    "\n",
    "if выражение_1:\n",
    "    \n",
    "    инструкции_(блок_1)\n",
    "\n",
    "elif выражение_2:\n",
    "    \n",
    "    инструкции_(блок_2)\n",
    "\n",
    "elif выражение_n:\n",
    "    \n",
    "    инструкции_(блок_n)\n",
    "\n",
    "else:\n",
    "    \n",
    "    инструкции_(блок_4)"
   ]
  },
  {
   "cell_type": "code",
   "execution_count": 19,
   "metadata": {
    "colab": {
     "base_uri": "https://localhost:8080/"
    },
    "id": "a3h5uxe8HzDg",
    "outputId": "5663e023-b847-445f-ba8d-034b8fdd590d"
   },
   "outputs": [
    {
     "name": "stdout",
     "output_type": "stream",
     "text": [
      "a > b\n"
     ]
    }
   ],
   "source": [
    "a = 10\n",
    "b = 5\n",
    "\n",
    "if a > b:\n",
    "    print('a > b')\n",
    "else:\n",
    "    print('a <= b')"
   ]
  },
  {
   "cell_type": "markdown",
   "metadata": {
    "id": "CVrtlE-ZHzDh"
   },
   "source": [
    "### Циклы\n",
    "так же двоеточие в конце выражени и после него четыре пробела!\n",
    "\n",
    "**С помощью конструкции while:**\n",
    "\n",
    "while выражение:\n",
    "\n",
    "    инструкция_1\n",
    "    \n",
    "    инструкция_2\n",
    "    \n",
    "    ...\n",
    "    \n",
    "    инструкция_n\n",
    "    \n",
    "Оператор break  предназначен для досрочного прерывания работы цикла while.\n",
    "\n",
    "Оператор continue  запускает цикл заново, при этом код, расположенный после данного оператора, не выполняется.\n",
    "\n",
    "**Конструкция for**\n",
    "\n",
    "Оператор for  выполняет указанный набор инструкций заданное количество раз, которое определяется количеством элементов в наборе.\n",
    "\n",
    "for счетчик:\n",
    "    \n",
    "    инструкция_1\n",
    "\n",
    "Внутри тела цикла можно использовать операторы break  и continue, принцип работы их точно такой же как и в операторе while."
   ]
  },
  {
   "cell_type": "code",
   "execution_count": 20,
   "metadata": {
    "colab": {
     "base_uri": "https://localhost:8080/"
    },
    "id": "3B45OWe3HzDh",
    "outputId": "29ee113f-a622-4611-ebad-dbe463ca979b"
   },
   "outputs": [
    {
     "name": "stdout",
     "output_type": "stream",
     "text": [
      "A\n",
      "A\n",
      "A\n",
      "A\n",
      "A\n",
      "A\n",
      "A\n"
     ]
    }
   ],
   "source": [
    "a = 0\n",
    "while a >= 0:\n",
    "   if a == 7:\n",
    "       break\n",
    "   a += 1\n",
    "   print(\"A\")"
   ]
  },
  {
   "cell_type": "code",
   "execution_count": 21,
   "metadata": {
    "colab": {
     "base_uri": "https://localhost:8080/"
    },
    "id": "T6pfRP2rHzDh",
    "outputId": "957b1f0f-904b-49d5-d443-5f29be8045a2"
   },
   "outputs": [
    {
     "name": "stdout",
     "output_type": "stream",
     "text": [
      "H\n",
      "e\n",
      "l\n",
      "l\n",
      "o\n",
      ",\n",
      " \n",
      "w\n",
      "o\n",
      "r\n",
      "l\n",
      "d\n",
      "!\n"
     ]
    }
   ],
   "source": [
    "word_str = \"Hello, world!\"\n",
    "for l in word_str:\n",
    "   print(l)"
   ]
  },
  {
   "cell_type": "markdown",
   "metadata": {
    "id": "pSzRWTaGHzDh"
   },
   "source": [
    "### Функции\n",
    "\n",
    "Блок функции начинается с ключевого слова def, после которого следуют название функции и круглые скобки ( () ).\n",
    "Любые аргументы, которые принимает функция должны находиться внутри этих скобок.\n",
    "После скобок идет двоеточие ( : ) и с новой строки с отступом (4 пробела или tab) начинается тело функции.\n",
    "\n",
    "В данном языке так же можно делать лябдафункции, выносить функции как библиотеки. Так же можно вынести все функции в отдельный файл и с помощью импорта вызывать в файле с кодом.\n",
    "\n",
    "Подробнее см. https://pythonworld.ru/tipy-dannyx-v-python/vse-o-funkciyax-i-ix-argumentax.html и http://pythonicway.com/python-functions"
   ]
  },
  {
   "cell_type": "code",
   "execution_count": 22,
   "metadata": {
    "colab": {
     "base_uri": "https://localhost:8080/"
    },
    "id": "1Kmzb5CXHzDi",
    "outputId": "6093d12a-f7d6-4dba-9fc3-3632025c4aa0"
   },
   "outputs": [
    {
     "name": "stdout",
     "output_type": "stream",
     "text": [
      "1\n"
     ]
    }
   ],
   "source": [
    "# Задаем функцию \n",
    "def my_function(argument):\n",
    "    print(argument)\n",
    "\n",
    "# Вызвзаем функцкию\n",
    "my_function(1)"
   ]
  },
  {
   "cell_type": "markdown",
   "metadata": {
    "id": "mAA4lHcPHzDi"
   },
   "source": [
    "## 4 Задания\n",
    "Ниже 5 заданий на основы работы с Python. Под заданиями есть поле для ввода кода. Там необходимо написать решение и пример работы с полученным результатом."
   ]
  },
  {
   "cell_type": "code",
   "execution_count": 23,
   "metadata": {
    "id": "nOn-dKJBHzDi"
   },
   "outputs": [],
   "source": [
    "# импорт библиотек\n",
    "%matplotlib inline\n",
    "import numpy as np\n",
    "import matplotlib.pyplot as plt"
   ]
  },
  {
   "cell_type": "markdown",
   "metadata": {
    "id": "ERZQU3VeHzDi"
   },
   "source": [
    "### Задание 1\n",
    "Напишите программу, которая берет список чисел (например, a = [5, 10, 15, 20, 25]) и составляет новый список только из первого и последнего элементов данного списка. Для практики напишите этот код внутри функции."
   ]
  },
  {
   "cell_type": "code",
   "execution_count": 24,
   "metadata": {
    "id": "jfM5PIlkHzDi"
   },
   "outputs": [],
   "source": [
    "def listEnds(a):\n",
    "    return [a[0], a[-1]] # первый и последний элементы"
   ]
  },
  {
   "cell_type": "code",
   "execution_count": 25,
   "metadata": {
    "colab": {
     "base_uri": "https://localhost:8080/"
    },
    "id": "DfUUxNOUHzDj",
    "outputId": "922e161d-b4e7-4996-edf8-6403d601f90e"
   },
   "outputs": [
    {
     "data": {
      "text/plain": [
       "[5, 25]"
      ]
     },
     "execution_count": 25,
     "metadata": {},
     "output_type": "execute_result"
    }
   ],
   "source": [
    "a = [5, 10, 15, 20, 25] # исходный список\n",
    "listEnds(a) # вызов функции"
   ]
  },
  {
   "cell_type": "markdown",
   "metadata": {
    "id": "Bt8gHP8tHzDj"
   },
   "source": [
    "### Задание 2\n",
    "Напишите программу, которая спрашивает пользователя, сколько чисел Фибоначи нужно сгенерировать, а затем генерирует их. Воспользуйтесь этой возможностью, чтобы подумать о том, как вы можете использовать функции. Обязательно попросите пользователя ввести количество чисел в последовательности, которую нужно сгенерировать.\n",
    "\n",
    "( Подсказка: последовательность Фибонначи - это последовательность чисел, где следующее число в последовательности - это сумма двух предыдущих чисел в последовательности. выглядит так: 1, 1, 2, 3, 5, 8, 13,… )"
   ]
  },
  {
   "cell_type": "code",
   "execution_count": 26,
   "metadata": {
    "id": "kJtpHDK4HzDj"
   },
   "outputs": [],
   "source": [
    "def generateFibonachi(fib_num):\n",
    "    fib = [] # список чисел Фибоначчи\n",
    "    for i in range(fib_num): # для каждого из генерируемых чисел\n",
    "        if len(fib) > 1: # если есть два предыдущих\n",
    "            fib.append(fib[-1] + fib[-2]) # суммируем их\n",
    "        else: # если двух предыдущих нет\n",
    "            fib.append(1) # число Фибоначчи - \"1\"\n",
    "    return fib # возвращаем готовую последовательность Фибоначчи"
   ]
  },
  {
   "cell_type": "code",
   "execution_count": 27,
   "metadata": {
    "colab": {
     "base_uri": "https://localhost:8080/"
    },
    "id": "w9Uo-ZFlHzDj",
    "outputId": "5415a67d-1ad3-454f-f66e-6107b5642c26"
   },
   "outputs": [
    {
     "name": "stdout",
     "output_type": "stream",
     "text": [
      "Сколько чисел Фибоначчи сгенерировать? Введите число\n",
      "7\n",
      "[1, 1, 2, 3, 5, 8, 13]\n"
     ]
    }
   ],
   "source": [
    "print('Сколько чисел Фибоначчи сгенерировать? Введите число')\n",
    "fib_num = int(input())\n",
    "fib = generateFibonachi(fib_num) # генерация последовательности Фибоначчи\n",
    "print(fib)"
   ]
  },
  {
   "cell_type": "markdown",
   "metadata": {
    "id": "YlyhKIR1HzDk"
   },
   "source": [
    "### Задание 3\n",
    "\n",
    "1. Напишите свою функцию, которая будет строить квадрат, ценр которого расположен в начале оси координат. В функцию необхдимо передавать параметр $a$ - сторона квадрата.\n",
    "\n",
    "2. Сделайте цикл для переменной длины стороны квадата $a$. Цикл должен быть от 1 до 5 с шагом 1. В каждом шаге вам необходимо вызывать вашу функцию из пункта 1. Для проверки, что вы строее квадрат можно использовать plt.axis ('scaled')."
   ]
  },
  {
   "cell_type": "code",
   "execution_count": 28,
   "metadata": {
    "id": "LNIi2kSZHzDm"
   },
   "outputs": [],
   "source": [
    "import matplotlib.patches as patches\n",
    "\n",
    "def plotSquare(a, ax):\n",
    "    ax.add_patch( # добавить на график\n",
    "        patches.Rectangle((-a/2,-a/2), a, a, angle=0.0) # параметры квадрата\n",
    "    )"
   ]
  },
  {
   "cell_type": "code",
   "execution_count": 29,
   "metadata": {
    "colab": {
     "base_uri": "https://localhost:8080/",
     "height": 106
    },
    "id": "yJBpCWWeHzDm",
    "outputId": "5e316e26-7024-402e-ba73-41da38b02b3e"
   },
   "outputs": [
    {
     "data": {
      "image/png": "[encoded data removed]",
      "text/plain": [
       "<Figure size 432x288 with 5 Axes>"
      ]
     },
     "metadata": {
      "needs_background": "light"
     },
     "output_type": "display_data"
    }
   ],
   "source": [
    "fig = plt.figure() # создаём основную фигуру\n",
    "\n",
    "for i in range(1,6):\n",
    "    ax = fig.add_subplot(1,5, i)\n",
    "    ax.set_aspect('equal') # одинаковый размер по x и по y\n",
    "    ax.set_xlim([-6,6]) # пределы графика\n",
    "    ax.set_ylim([-6,6])\n",
    "    plotSquare(i, ax) # рисование квадратика"
   ]
  },
  {
   "cell_type": "markdown",
   "metadata": {
    "id": "AaqU3SH1HzDm"
   },
   "source": [
    "### Задание 4\n",
    "Создайте случайное число от 1 до 9 (включая 1 и 9). Попросите пользователя угадать число, а затем скажите ему, угадал ли он слишком низко, слишком высоко или точно. \n",
    "\n",
    "Дополнительно:\n",
    "\n",
    "* Продолжайте игру, пока пользователь не наберет «exit».\n",
    "* Следите за тем, сколько предположений сделал пользователь, и когда игра закончится необходимо вывести значение."
   ]
  },
  {
   "cell_type": "code",
   "execution_count": 30,
   "metadata": {
    "colab": {
     "base_uri": "https://localhost:8080/"
    },
    "id": "0njzXOW2HzDm",
    "outputId": "14f7a4f9-0d84-447d-d8e4-8e9bc3d29bf1"
   },
   "outputs": [
    {
     "name": "stdout",
     "output_type": "stream",
     "text": [
      "Введите \"exit\", чтобы заверщить игру досрочно\n",
      "1\n",
      "Низко!\n",
      "5\n",
      "Высоко!\n",
      "exit\n"
     ]
    }
   ],
   "source": [
    "import random\n",
    "\n",
    "print('Введите \"exit\", чтобы заверщить игру досрочно')\n",
    "\n",
    "number = random.randint(1,9)\n",
    "guess = 0\n",
    "count = 0\n",
    "while guess != 'exit': # пока не пользователь не выходит\n",
    "    guess = input() # получаем ввод пользователя\n",
    "    count += 1 # увеличиваем счётчик ходов\n",
    "    if guess.isdigit(): # если пользователь ввёл число\n",
    "        if int(guess) > number:\n",
    "            print('Высоко!')\n",
    "        elif int(guess) < number:\n",
    "            print('Низко!')\n",
    "        else:\n",
    "            print('Точно! Ответ ', guess)\n",
    "            print('Угадано с', count, 'попытки')\n",
    "            print('\\n\\nСчётчик ходов сброшен, новая игра начата!')\n",
    "            number = random.randint(1,9)\n",
    "            count = 0"
   ]
  },
  {
   "cell_type": "markdown",
   "metadata": {
    "id": "fCV6iZOlHzDn"
   },
   "source": [
    "### Задание 5\n",
    "1. Необходимо написать функции вычисления\n",
    "\n",
    "$f1 = x^2 + x + b$ -- синий\n",
    "\n",
    "$x^2 + (f2 - \\sqrt{|x|})^2 = 1$ - красный\n",
    "\n",
    "$b$ - последняя цифра в студенческом билете, если она 0, то первая не 0 цифра в номере.\n",
    "2. Построить графики функций в одном окне. Подписать все оси и название графика и легенду.\n",
    "3. Построить графики в одном окне в разных координатных осях. Подписать все оси и название графика и легенду.\n",
    "4. Пстроить поферхность и оформить результат аналогично.\n",
    "$f(x,y)=x^2-y^2$"
   ]
  },
  {
   "cell_type": "code",
   "execution_count": 31,
   "metadata": {
    "colab": {
     "base_uri": "https://localhost:8080/",
     "height": 313
    },
    "id": "-jVVjF7NHzDn",
    "outputId": "d2576af3-265c-4c2f-9924-28006f0eab3c"
   },
   "outputs": [
    {
     "data": {
      "text/plain": [
       "<matplotlib.legend.Legend at 0x1bc27c85d60>"
      ]
     },
     "execution_count": 31,
     "metadata": {},
     "output_type": "execute_result"
    },
    {
     "data": {
      "image/png": "[encoded data removed]",
      "text/plain": [
       "<Figure size 432x288 with 1 Axes>"
      ]
     },
     "metadata": {
      "needs_background": "light"
     },
     "output_type": "display_data"
    }
   ],
   "source": [
    "b = 1 # из студенческого билета\n",
    "x = np.linspace(0,1,100)\n",
    "f1 = x**2 + x + b\n",
    "plt.plot()\n",
    "\n",
    "f2 = (1-x**2)**0.5 + x**0.5\n",
    " \n",
    "plt.plot(f1)\n",
    "plt.plot(f2)\n",
    "\n",
    "plt.grid()\n",
    "plt.xlabel('x')\n",
    "plt.ylabel('y')\n",
    "plt.title('Графики в одном окне')\n",
    "plt.legend(['x**2 + x + b', '(1-x**2)**0.5 + x**0.5'])\n"
   ]
  },
  {
   "cell_type": "code",
   "execution_count": null,
   "metadata": {
    "id": "cfNYCH6DHzDn"
   },
   "outputs": [],
   "source": []
  },
  {
   "cell_type": "code",
   "execution_count": 32,
   "metadata": {
    "colab": {
     "base_uri": "https://localhost:8080/",
     "height": 313
    },
    "id": "OGI6ZUxeHzDo",
    "outputId": "1f954882-e8ac-44a3-a23d-7a1fc94196a0"
   },
   "outputs": [
    {
     "data": {
      "text/plain": [
       "<matplotlib.legend.Legend at 0x1bc27d552e0>"
      ]
     },
     "execution_count": 32,
     "metadata": {},
     "output_type": "execute_result"
    },
    {
     "data": {
      "image/png": "[encoded data removed]",
      "text/plain": [
       "<Figure size 432x288 with 2 Axes>"
      ]
     },
     "metadata": {
      "needs_background": "light"
     },
     "output_type": "display_data"
    }
   ],
   "source": [
    "plt.subplot(3,1,1)\n",
    "plt.grid()\n",
    "plt.xlabel('x')\n",
    "plt.ylabel('y')\n",
    "plt.title('График')\n",
    "plt.legend(['x**2 + x + b'])\n",
    "plt.plot(f1)\n",
    "\n",
    "plt.subplot(3,1,3)\n",
    "plt.plot(f2)\n",
    "plt.grid()\n",
    "plt.xlabel('x')\n",
    "plt.ylabel('y')\n",
    "plt.title('График')\n",
    "plt.legend(['(1-x**2)**0.5 + x**0.5'])\n",
    "# дописать"
   ]
  },
  {
   "cell_type": "code",
   "execution_count": 33,
   "metadata": {
    "colab": {
     "base_uri": "https://localhost:8080/",
     "height": 337
    },
    "id": "ajC2tYcUHzDo",
    "outputId": "1f569c93-6b5d-4882-c3b2-e4d125f565e1"
   },
   "outputs": [
    {
     "data": {
      "text/plain": [
       "<mpl_toolkits.mplot3d.art3d.Poly3DCollection at 0x1bc27ddcd90>"
      ]
     },
     "execution_count": 33,
     "metadata": {},
     "output_type": "execute_result"
    },
    {
     "data": {
      "image/png": "[encoded data removed]",
      "text/plain": [
       "<Figure size 432x288 with 1 Axes>"
      ]
     },
     "metadata": {
      "needs_background": "light"
     },
     "output_type": "display_data"
    }
   ],
   "source": [
    "from mpl_toolkits.mplot3d import Axes3D\n",
    "import numpy as np\n",
    "from matplotlib import cm\n",
    "\n",
    "x = np.linspace(-100,1,100) # одномерный массив x\n",
    "y = np.linspace(-100,1,100) # одномерный массив y\n",
    "\n",
    "xm, ym = np.meshgrid(x, y) # поверхность XY\n",
    "zm = xm**2 - ym**2 # результирующая поверхность над XY\n",
    "ax = Axes3D(plt.gcf()) # трёхмерный график\n",
    "ax.plot_surface(xm, ym, zm, cmap=cm.coolwarm) # строим поверхность\n"
   ]
  },
  {
   "cell_type": "code",
   "execution_count": null,
   "metadata": {
    "id": "QtMkbmRRHzDo"
   },
   "outputs": [],
   "source": []
  },
  {
   "cell_type": "code",
   "execution_count": null,
   "metadata": {},
   "outputs": [],
   "source": []
  }
 ],
 "metadata": {
  "colab": {
   "collapsed_sections": [
    "RkC020mAHzDc"
   ],
   "name": "DP_lab1 Python.ipynb",
   "provenance": []
  },
  "interpreter": {
   "hash": "75b62d92ce4d7a656a0b34b08883b3005355bcaf692a54a74f8c7874d401ea99"
  },
  "kernelspec": {
   "display_name": "Python 3",
   "language": "python",
   "name": "python3"
  },
  "language_info": {
   "codemirror_mode": {
    "name": "ipython",
    "version": 3
   },
   "file_extension": ".py",
   "mimetype": "text/x-python",
   "name": "python",
   "nbconvert_exporter": "python",
   "pygments_lexer": "ipython3",
   "version": "3.8.8"
  }
 },
 "nbformat": 4,
 "nbformat_minor": 1
}
